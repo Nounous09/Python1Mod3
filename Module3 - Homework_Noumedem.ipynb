{
 "cells": [
  {
   "cell_type": "markdown",
   "metadata": {},
   "source": [
    "### Exercise 1\n",
    "Ask a user for 5 names and place each one in to a list called <i>names</i>. Then, print <i>names</i>."
   ]
  },
  {
   "cell_type": "code",
   "execution_count": 7,
   "metadata": {},
   "outputs": [
    {
     "name": "stdout",
     "output_type": "stream",
     "text": [
      "Enter 1st name: Linda\n",
      "Enter 2nd name: Christ\n",
      "Enter 3rd name: Franck\n",
      "Enter 4th name: Claude\n",
      "Enter 5th name: Cecile\n",
      "Names = ['Linda', 'Christ', 'Franck', 'Claude', 'Cecile']\n"
     ]
    }
   ],
   "source": [
    "name1 = input(\"Enter 1st name: \")\n",
    "name2 = input(\"Enter 2nd name: \")\n",
    "name3 = input(\"Enter 3rd name: \")\n",
    "name4 = input(\"Enter 4th name: \")\n",
    "name5 = input(\"Enter 5th name: \")\n",
    "\n",
    "names = [name1, name2, name3, name4, name5]\n",
    "print(f\"Names = {names}\")"
   ]
  },
  {
   "cell_type": "markdown",
   "metadata": {},
   "source": [
    "### Exercise 2\n",
    "Print out a randomly selected name in the names list."
   ]
  },
  {
   "cell_type": "code",
   "execution_count": 9,
   "metadata": {},
   "outputs": [
    {
     "name": "stdout",
     "output_type": "stream",
     "text": [
      "Linda\n"
     ]
    }
   ],
   "source": [
    "import random as rand\n",
    "\n",
    "x = rand.randint(0,5)\n",
    "\n",
    "print(names[x])\n"
   ]
  },
  {
   "cell_type": "markdown",
   "metadata": {},
   "source": [
    "### Exercise 3\n",
    "Ask for a color and store that answer. \n",
    "If the answer is grey then print out you found Victor's favorite color.\n",
    "Otherwise print out the color is not Victor's favorite color."
   ]
  },
  {
   "cell_type": "code",
   "execution_count": 18,
   "metadata": {},
   "outputs": [
    {
     "name": "stdout",
     "output_type": "stream",
     "text": [
      "Enter a color: grey\n",
      "You found Victor's favorite color\n"
     ]
    }
   ],
   "source": [
    "prompt = str(input(\"Enter a color: \"))\n",
    "color = [prompt]\n",
    "#print(f\"Colors = {color}\")\n",
    "\n",
    "if color[0] == \"grey\":\n",
    "    print(\"You found Victor's favorite color\")\n",
    "else:\n",
    "    print(\"The color is not Victor's favorite color \")\n"
   ]
  },
  {
   "cell_type": "markdown",
   "metadata": {},
   "source": [
    "### Exercise 4\n",
    "Ask for an exam score and store that number. If the number is greater than 100, then print out 'You cannot have an exam score higher than 100'. If the number doesn't exceeed 100 but is greater than or equal to 75, then print out 'You did great on your exam!'. Otherwise if they scored lower than 75, then print out 'You need to study harder'."
   ]
  },
  {
   "cell_type": "code",
   "execution_count": 20,
   "metadata": {},
   "outputs": [
    {
     "name": "stdout",
     "output_type": "stream",
     "text": [
      "Enter an exam score: 60\n",
      "You need to study harder\n"
     ]
    }
   ],
   "source": [
    "score = int(input(\"Enter an exam score: \"))\n",
    "\n",
    "if score > 100:\n",
    "    print(\"You cannot have an exam score higher than 100\")\n",
    "elif score == 100 and score >= 75:\n",
    "    print(\"You did great on your exam!\")\n",
    "elif score < 75:\n",
    "    print(\"You need to study harder\")"
   ]
  },
  {
   "cell_type": "markdown",
   "metadata": {},
   "source": [
    "### Exercise 5\n",
    "Write a function to convert a test score to a grade where  \n",
    " - 90 - 100: A\n",
    " - 80 - 89:  B\n",
    " - 70 - 79:  C\n",
    " - 60 - 69:  D\n",
    " - < 60   :  F\n",
    " \n",
    "If a score is not between 0 and 100 then print out an error message. In the program, ask the user for a score and then call your function. "
   ]
  },
  {
   "cell_type": "code",
   "execution_count": 21,
   "metadata": {},
   "outputs": [
    {
     "name": "stdout",
     "output_type": "stream",
     "text": [
      "Enter an exam score: 50\n",
      "You exam grade is 'F'!\n"
     ]
    }
   ],
   "source": [
    "score = int(input(\"Enter an exam score: \"))\n",
    "\n",
    "if score >= 90 and score <= 100:\n",
    "    print(\"You exam grade is 'A'!\")\n",
    "elif score >= 80 and score <= 89:\n",
    "    print(\"You exam grade is 'B'!\")\n",
    "elif score >= 70 and score <=79:\n",
    "    print(\"You exam grade is 'c'!\")\n",
    "elif score >= 60 and score <= 69:\n",
    "    print(\"You exam grade is 'D'!\")\n",
    "elif score < 60:\n",
    "    print(\"You exam grade is 'F'!\")\n",
    "else:\n",
    "    print(\"error: the score is not between 0 and 100\")"
   ]
  },
  {
   "cell_type": "code",
   "execution_count": null,
   "metadata": {},
   "outputs": [],
   "source": []
  }
 ],
 "metadata": {
  "kernelspec": {
   "display_name": "Python 3 (ipykernel)",
   "language": "python",
   "name": "python3"
  },
  "language_info": {
   "codemirror_mode": {
    "name": "ipython",
    "version": 3
   },
   "file_extension": ".py",
   "mimetype": "text/x-python",
   "name": "python",
   "nbconvert_exporter": "python",
   "pygments_lexer": "ipython3",
   "version": "3.9.7"
  }
 },
 "nbformat": 4,
 "nbformat_minor": 4
}
